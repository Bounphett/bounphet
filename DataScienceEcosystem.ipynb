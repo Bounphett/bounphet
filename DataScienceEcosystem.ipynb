{
 "cells": [
  {
   "cell_type": "markdown",
   "id": "2d8476a3",
   "metadata": {},
   "source": [
    "# Data Science Tools and Ecosystem"
   ]
  },
  {
   "cell_type": "markdown",
   "id": "365a3def",
   "metadata": {},
   "source": [
    "## In this notebook, Data Science Tools and Ecosystem are summarized.\n",
    "    "
   ]
  },
  {
   "cell_type": "markdown",
   "id": "42ee295d",
   "metadata": {},
   "source": [
    "## Some of the popular languages that Data Scientists use are:\n",
    "       1. Python\n",
    "       2. SQL\n",
    "       3. R"
   ]
  },
  {
   "cell_type": "code",
   "execution_count": 1,
   "id": "2c83603a",
   "metadata": {},
   "outputs": [],
   "source": []
  },
  {
   "cell_type": "markdown",
   "id": "3a3df8a5",
   "metadata": {},
   "source": [
    "### Some of the commonly used libraries used by Data Scientists include:\n",
    "    1. Numpy\n",
    "    2. Pandas\n",
    "    3. Seaborn"
   ]
  },
  {
   "cell_type": "markdown",
   "id": "d9f2f4aa",
   "metadata": {},
   "source": [
    "### Data Science Tools\n",
    "    1. Jupyter Notebook\n",
    "    2. Apache Spark\n",
    "    3. Rstudio"
   ]
  },
  {
   "cell_type": "markdown",
   "id": "84c877e8",
   "metadata": {},
   "source": [
    "### Below are a few examples of evaluating arithmetic expressions in Python"
   ]
  },
  {
   "cell_type": "code",
   "execution_count": 3,
   "id": "32080b12",
   "metadata": {},
   "outputs": [
    {
     "data": {
      "text/plain": [
       "17"
      ]
     },
     "execution_count": 3,
     "metadata": {},
     "output_type": "execute_result"
    }
   ],
   "source": [
    "(3*4)+5"
   ]
  },
  {
   "cell_type": "code",
   "execution_count": 4,
   "id": "68f7c2b3",
   "metadata": {},
   "outputs": [
    {
     "data": {
      "text/plain": [
       "3.3333333333333335"
      ]
     },
     "execution_count": 4,
     "metadata": {},
     "output_type": "execute_result"
    }
   ],
   "source": [
    "# convet minutes to hour\n",
    "200/60"
   ]
  },
  {
   "cell_type": "markdown",
   "id": "e459d234",
   "metadata": {},
   "source": [
    "# Objective:\n",
    "     1. list popular language for data science.\n",
    "     2. identify commonly used libraries in data science\n",
    "     3. prodive examples of evaluating arthmetic expression in Python\n",
    " "
   ]
  },
  {
   "cell_type": "markdown",
   "id": "48818bb0",
   "metadata": {},
   "source": [
    "## Auther: Bounphet"
   ]
  },
  {
   "cell_type": "code",
   "execution_count": null,
   "id": "c9145250",
   "metadata": {},
   "outputs": [],
   "source": []
  },
  {
   "cell_type": "code",
   "execution_count": null,
   "id": "d33c10f7",
   "metadata": {},
   "outputs": [],
   "source": []
  },
  {
   "cell_type": "code",
   "execution_count": null,
   "id": "459551ab",
   "metadata": {},
   "outputs": [],
   "source": []
  }
 ],
 "metadata": {
  "kernelspec": {
   "display_name": "Python 3 (ipykernel)",
   "language": "python",
   "name": "python3"
  },
  "language_info": {
   "codemirror_mode": {
    "name": "ipython",
    "version": 3
   },
   "file_extension": ".py",
   "mimetype": "text/x-python",
   "name": "python",
   "nbconvert_exporter": "python",
   "pygments_lexer": "ipython3",
   "version": "3.9.13"
  }
 },
 "nbformat": 4,
 "nbformat_minor": 5
}
